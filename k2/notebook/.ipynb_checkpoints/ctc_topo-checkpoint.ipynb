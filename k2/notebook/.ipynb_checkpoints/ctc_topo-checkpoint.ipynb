{
 "cells": [
  {
   "cell_type": "code",
   "execution_count": 12,
   "id": "e2fda8cc",
   "metadata": {},
   "outputs": [],
   "source": [
    "import k2\n",
    "from typing import List"
   ]
  },
  {
   "cell_type": "code",
   "execution_count": 11,
   "id": "16e7c218",
   "metadata": {},
   "outputs": [
    {
     "ename": "ValueError",
     "evalue": "The following is not a valid Fsa (with num_aux_labels=0): 0 4 -1 -1 0\n0 0 1 1 0\n0 0 1 1 0\n0 0 1 0 0\n0 0 1 0 0\n0 0 2 2 0\n0 1 2 2 0\n0 0 3 3 0\n0 2 3 3 0\n1 1 2 0 0\n1 0 2 0 0\n2 2 3 0 0\n2 0 3 0 0\n4",
     "output_type": "error",
     "traceback": [
      "\u001b[0;31m---------------------------------------------------------------------------\u001b[0m",
      "\u001b[0;31mRuntimeError\u001b[0m                              Traceback (most recent call last)",
      "\u001b[0;32m~/open-source/k2/k2/python/k2/fsa.py\u001b[0m in \u001b[0;36mfrom_str\u001b[0;34m(cls, s, acceptor, num_aux_labels, aux_label_names, ragged_label_names, openfst)\u001b[0m\n\u001b[1;32m   1235\u001b[0m             (arcs, aux_labels,\n\u001b[0;32m-> 1236\u001b[0;31m              \u001b[0mragged_labels\u001b[0m\u001b[0;34m)\u001b[0m \u001b[0;34m=\u001b[0m \u001b[0m_k2\u001b[0m\u001b[0;34m.\u001b[0m\u001b[0mfsa_from_str\u001b[0m\u001b[0;34m(\u001b[0m\u001b[0ms\u001b[0m\u001b[0;34m,\u001b[0m \u001b[0mnum_aux_labels\u001b[0m\u001b[0;34m,\u001b[0m\u001b[0;34m\u001b[0m\u001b[0;34m\u001b[0m\u001b[0m\n\u001b[0m\u001b[1;32m   1237\u001b[0m                                                \u001b[0mnum_ragged_labels\u001b[0m\u001b[0;34m,\u001b[0m\u001b[0;34m\u001b[0m\u001b[0;34m\u001b[0m\u001b[0m\n",
      "\u001b[0;31mRuntimeError\u001b[0m: Some bad things happed.",
      "\nDuring handling of the above exception, another exception occurred:\n",
      "\u001b[0;31mValueError\u001b[0m                                Traceback (most recent call last)",
      "\u001b[0;32m<ipython-input-11-1a54f5c50e1d>\u001b[0m in \u001b[0;36m<module>\u001b[0;34m\u001b[0m\n\u001b[1;32m     27\u001b[0m \u001b[0;34m\u001b[0m\u001b[0m\n\u001b[1;32m     28\u001b[0m \u001b[0mphones\u001b[0m \u001b[0;34m=\u001b[0m \u001b[0;34m[\u001b[0m\u001b[0;36m1\u001b[0m\u001b[0;34m,\u001b[0m \u001b[0;36m2\u001b[0m\u001b[0;34m,\u001b[0m \u001b[0;36m3\u001b[0m\u001b[0;34m]\u001b[0m\u001b[0;34m\u001b[0m\u001b[0;34m\u001b[0m\u001b[0m\n\u001b[0;32m---> 29\u001b[0;31m \u001b[0mctc_topo\u001b[0m \u001b[0;34m=\u001b[0m \u001b[0mbuild_ctc_topo2\u001b[0m\u001b[0;34m(\u001b[0m\u001b[0mphones\u001b[0m\u001b[0;34m)\u001b[0m\u001b[0;34m\u001b[0m\u001b[0;34m\u001b[0m\u001b[0m\n\u001b[0m\u001b[1;32m     30\u001b[0m \u001b[0mk2\u001b[0m\u001b[0;34m.\u001b[0m\u001b[0mto_dot\u001b[0m\u001b[0;34m(\u001b[0m\u001b[0mctc_topo\u001b[0m\u001b[0;34m)\u001b[0m\u001b[0;34m\u001b[0m\u001b[0;34m\u001b[0m\u001b[0m\n",
      "\u001b[0;32m<ipython-input-11-1a54f5c50e1d>\u001b[0m in \u001b[0;36mbuild_ctc_topo2\u001b[0;34m(phones)\u001b[0m\n\u001b[1;32m     22\u001b[0m     \u001b[0marcs\u001b[0m \u001b[0;34m=\u001b[0m \u001b[0;34m[\u001b[0m\u001b[0;34m' '\u001b[0m\u001b[0;34m.\u001b[0m\u001b[0mjoin\u001b[0m\u001b[0;34m(\u001b[0m\u001b[0marc\u001b[0m\u001b[0;34m)\u001b[0m \u001b[0;32mfor\u001b[0m \u001b[0marc\u001b[0m \u001b[0;32min\u001b[0m \u001b[0marcs\u001b[0m\u001b[0;34m]\u001b[0m\u001b[0;34m\u001b[0m\u001b[0;34m\u001b[0m\u001b[0m\n\u001b[1;32m     23\u001b[0m     \u001b[0marcs\u001b[0m \u001b[0;34m=\u001b[0m \u001b[0;34m'\\n'\u001b[0m\u001b[0;34m.\u001b[0m\u001b[0mjoin\u001b[0m\u001b[0;34m(\u001b[0m\u001b[0marcs\u001b[0m\u001b[0;34m)\u001b[0m\u001b[0;34m\u001b[0m\u001b[0;34m\u001b[0m\u001b[0m\n\u001b[0;32m---> 24\u001b[0;31m     \u001b[0mctc_topo\u001b[0m \u001b[0;34m=\u001b[0m \u001b[0mk2\u001b[0m\u001b[0;34m.\u001b[0m\u001b[0mFsa\u001b[0m\u001b[0;34m.\u001b[0m\u001b[0mfrom_str\u001b[0m\u001b[0;34m(\u001b[0m\u001b[0marcs\u001b[0m\u001b[0;34m)\u001b[0m\u001b[0;34m\u001b[0m\u001b[0;34m\u001b[0m\u001b[0m\n\u001b[0m\u001b[1;32m     25\u001b[0m     \u001b[0;32mreturn\u001b[0m \u001b[0mctc_topo\u001b[0m\u001b[0;34m\u001b[0m\u001b[0;34m\u001b[0m\u001b[0m\n\u001b[1;32m     26\u001b[0m \u001b[0;34m\u001b[0m\u001b[0m\n",
      "\u001b[0;32m~/open-source/k2/k2/python/k2/fsa.py\u001b[0m in \u001b[0;36mfrom_str\u001b[0;34m(cls, s, acceptor, num_aux_labels, aux_label_names, ragged_label_names, openfst)\u001b[0m\n\u001b[1;32m   1247\u001b[0m         \u001b[0;32mexcept\u001b[0m \u001b[0mException\u001b[0m\u001b[0;34m:\u001b[0m\u001b[0;34m\u001b[0m\u001b[0;34m\u001b[0m\u001b[0m\n\u001b[1;32m   1248\u001b[0m             \u001b[0mo\u001b[0m \u001b[0;34m=\u001b[0m \u001b[0;34m'in the OpenFst format '\u001b[0m \u001b[0;32mif\u001b[0m \u001b[0mopenfst\u001b[0m \u001b[0;32melse\u001b[0m \u001b[0;34m''\u001b[0m\u001b[0;34m\u001b[0m\u001b[0;34m\u001b[0m\u001b[0m\n\u001b[0;32m-> 1249\u001b[0;31m             raise ValueError(f'The following is not a valid Fsa {o}(with '\n\u001b[0m\u001b[1;32m   1250\u001b[0m                              f'num_aux_labels={num_aux_labels}): {s}')\n\u001b[1;32m   1251\u001b[0m \u001b[0;34m\u001b[0m\u001b[0m\n",
      "\u001b[0;31mValueError\u001b[0m: The following is not a valid Fsa (with num_aux_labels=0): 0 4 -1 -1 0\n0 0 1 1 0\n0 0 1 1 0\n0 0 1 0 0\n0 0 1 0 0\n0 0 2 2 0\n0 1 2 2 0\n0 0 3 3 0\n0 2 3 3 0\n1 1 2 0 0\n1 0 2 0 0\n2 2 3 0 0\n2 0 3 0 0\n4"
     ]
    }
   ],
   "source": [
    "def build_ctc_topo2(phones: List[int]):\n",
    "    assert 0 not in phones\n",
    "    \n",
    "    num_phones = len(phones)\n",
    "    \n",
    "    start = 0\n",
    "    final = num_phones + 1\n",
    "    \n",
    "    arcs = []\n",
    "    arcs.append([start, final, -1, -1, 0])\n",
    "    arcs.append([final])\n",
    "    for i, p in enumerate(phones): \n",
    "        arcs.append([start, start, p, p, 0])\n",
    "        \n",
    "        arcs.append([start, i, p, p, 0])\n",
    "        arcs.append([i, i, p, 0, 0])\n",
    "        \n",
    "        arcs.append([i, start, p, 0, 0])\n",
    "    \n",
    "    arcs = sorted(arcs, key=lambda arc: arc[0])\n",
    "    arcs = [[str(i) for i in arc] for arc in arcs]\n",
    "    arcs = [' '.join(arc) for arc in arcs]\n",
    "    arcs = '\\n'.join(arcs)\n",
    "    ctc_topo = k2.Fsa.from_str(arcs)\n",
    "    return ctc_topo\n",
    "    \n",
    "    \n",
    "phones = [1, 2, 3]    \n",
    "ctc_topo = build_ctc_topo2(phones, False)\n",
    "k2.to_dot(ctc_topo)"
   ]
  },
  {
   "cell_type": "code",
   "execution_count": null,
   "id": "f6fd9f29",
   "metadata": {},
   "outputs": [],
   "source": []
  }
 ],
 "metadata": {
  "kernelspec": {
   "display_name": "Python 3",
   "language": "python",
   "name": "python3"
  },
  "language_info": {
   "codemirror_mode": {
    "name": "ipython",
    "version": 3
   },
   "file_extension": ".py",
   "mimetype": "text/x-python",
   "name": "python",
   "nbconvert_exporter": "python",
   "pygments_lexer": "ipython3",
   "version": "3.8.6"
  }
 },
 "nbformat": 4,
 "nbformat_minor": 5
}
